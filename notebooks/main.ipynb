{
 "cells": [
  {
   "cell_type": "code",
   "execution_count": null,
   "metadata": {},
   "outputs": [],
   "source": [
    "import os\n",
    "import sys\n",
    "import yt_dlp"
   ]
  },
  {
   "cell_type": "code",
   "execution_count": null,
   "metadata": {},
   "outputs": [],
   "source": [
    "def mostrar_progreso(d):\n",
    "    \"\"\"Muestra el progreso de la descarga\"\"\"\n",
    "    if d['status'] == 'downloading':\n",
    "        porcentaje = d.get('_percent_str', '0%')\n",
    "        velocidad = d.get('_speed_str', 'N/A')\n",
    "        tiempo_restante = d.get('_eta_str', 'N/A')\n",
    "        print(f\"\\rDescargando: {porcentaje} | Velocidad: {velocidad} | Tiempo restante: {tiempo_restante}\", end='')\n",
    "    elif d['status'] == 'finished':\n",
    "        print(\"\\nDescarga completada. Procesando archivo...\")\n",
    "\n",
    "\n",
    "def descargar_video(url, carpeta_destino=\"downloads\"):\n",
    "    \"\"\"\n",
    "    Descarga un video de YouTube en la más alta resolución disponible usando yt-dlp.\n",
    "    \n",
    "    Args:\n",
    "        url: URL del video de YouTube\n",
    "        carpeta_destino: Carpeta donde se guardará el video (por defecto 'descargas')\n",
    "    \n",
    "    Returns:\n",
    "        La ruta completa del archivo descargado\n",
    "    \"\"\"\n",
    "    try:\n",
    "\n",
    "        if not os.path.exists(carpeta_destino):\n",
    "            os.makedirs(carpeta_destino)\n",
    "        opciones = {\n",
    "            'format': 'bestvideo[ext=mp4]+bestaudio[ext=m4a]/best[ext=mp4]/best',\n",
    "            'outtmpl': os.path.join(carpeta_destino, '%(title)s.%(ext)s'),\n",
    "            'noplaylist': True,\n",
    "            'progress_hooks': [mostrar_progreso],\n",
    "            'quiet': False,\n",
    "            'no_warnings': False,\n",
    "            'ignoreerrors': False,\n",
    "            'geo_bypass': True,\n",
    "        }\n",
    "        \n",
    "        print(f\"Conectando a YouTube para obtener información del video: {url}\")\n",
    "        \n",
    "\n",
    "        with yt_dlp.YoutubeDL(opciones) as ydl:\n",
    "            info = ydl.extract_info(url, download=False)\n",
    "            \n",
    "            if info:\n",
    "                print(f\"\\nTítulo: {info.get('title', 'Desconocido')}\")\n",
    "                print(f\"Duración: {info.get('duration', 'Desconocido')} segundos\")\n",
    "                print(f\"Resolución máxima disponible: {info.get('resolution', 'Desconocido')}\")\n",
    "                \n",
    "                print(\"\\nIniciando descarga...\")\n",
    "                ydl.download([url])\n",
    "                \n",
    "                nombre_archivo = ydl.prepare_filename(info)\n",
    "                print(f\"\\n¡Descarga completada! Archivo guardado en: {nombre_archivo}\")\n",
    "                return nombre_archivo\n",
    "            else:\n",
    "                print(\"No se pudo obtener información del video.\")\n",
    "                return None\n",
    "    \n",
    "    except Exception as e:\n",
    "        print(f\"\\nError al descargar el video: {str(e)}\")\n",
    "        return None"
   ]
  },
  {
   "cell_type": "code",
   "execution_count": null,
   "metadata": {},
   "outputs": [],
   "source": [
    "url = \"https://www.youtube.com/watch?asdasdasd\"\n",
    "descargar_video(url)"
   ]
  },
  {
   "cell_type": "code",
   "execution_count": null,
   "metadata": {},
   "outputs": [],
   "source": [
    "import subprocess\n",
    "import os\n",
    "\n",
    "\n",
    "def extract_audio_to_wav(\n",
    "    input_path: str, \n",
    "    output_dir: str = \"./\"\n",
    ") -> str:\n",
    "    if not os.path.isfile(input_path):\n",
    "        raise FileNotFoundError(f\"[FFmpeg] Input file not found: {input_path}\")\n",
    "\n",
    "    os.makedirs(output_dir, exist_ok=True)\n",
    "    base_name = os.path.splitext(os.path.basename(input_path))[0]\n",
    "    wav_path = os.path.join(output_dir, f\"{base_name}.wav\")\n",
    "\n",
    "    cmd = [\n",
    "        \"ffmpeg\",\n",
    "        \"-y\",\n",
    "        \"-i\",\n",
    "        input_path,\n",
    "        \"-vn\",\n",
    "        \"-acodec\",\n",
    "        \"pcm_s16le\",\n",
    "        \"-ar\",\n",
    "        \"16000\",\n",
    "        \"-ac\",\n",
    "        \"1\",\n",
    "        wav_path,\n",
    "    ]\n",
    "    subprocess.run(cmd, check=True, stdout=subprocess.PIPE, stderr=subprocess.PIPE)\n",
    "    return wav_path"
   ]
  },
  {
   "cell_type": "code",
   "execution_count": null,
   "metadata": {},
   "outputs": [],
   "source": [
    "video_path = \"downloads/<replace_mp4_filename>\"\n",
    "output_dir = \"downloads\"\n",
    "wav_path = extract_audio_to_wav(video_path, output_dir)\n",
    "wav_path"
   ]
  }
 ],
 "metadata": {
  "kernelspec": {
   "display_name": "venv",
   "language": "python",
   "name": "python3"
  },
  "language_info": {
   "codemirror_mode": {
    "name": "ipython",
    "version": 3
   },
   "file_extension": ".py",
   "mimetype": "text/x-python",
   "name": "python",
   "nbconvert_exporter": "python",
   "pygments_lexer": "ipython3",
   "version": "3.10.11"
  }
 },
 "nbformat": 4,
 "nbformat_minor": 2
}
